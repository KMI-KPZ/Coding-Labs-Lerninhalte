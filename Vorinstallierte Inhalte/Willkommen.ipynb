{
 "cells": [
  {
   "cell_type": "markdown",
   "id": "194af513",
   "metadata": {},
   "source": []
  },
  {
   "cell_type": "markdown",
   "id": "fa6370b4-9486-438f-91a2-1c438c7c2eb5",
   "metadata": {},
   "source": [
    "# 🙂 Willkommen bei Coding Labs!\n",
    "\n",
    "Du bist gerade in der [JupyterLab](https://jupyter.org/)-Umgebung von **Coding Labs**, einer Web-Oberfläche in der du Python-Code, Texte, Kurse, und allerlei interaktive Inhalte direkt im Web-Browser ansehen und ausführen kannst. \n",
    "\n",
    "Solltest du dich noch nicht mit Python auskennen, schau doch mal in unsere **Beispielkurse**. In der linken Seitenleiste findest du verschiedene einsteigerfreundliche Formate auf Deutsch und Englisch. Du kannst diese Jupyter Notebooks per Doppelklick öffnen.\n",
    "\n",
    "Natürlich kannst du Coding Labs auch dazu benutzen deine eigenen **Jupyter Notebooks zu erstellen, hochzuladen, zu bearbeiten und auch wieder herunterzuladen**.\n",
    "\n",
    "\n",
    "Wir wünschen dir viel Freude mit Coding Labs! Happy Coding!"
   ]
  }
 ],
 "metadata": {
  "kernelspec": {
   "display_name": "Python 3 (ipykernel)",
   "language": "python",
   "name": "python3"
  },
  "language_info": {
   "codemirror_mode": {
    "name": "ipython",
    "version": 3
   },
   "file_extension": ".py",
   "mimetype": "text/x-python",
   "name": "python",
   "nbconvert_exporter": "python",
   "pygments_lexer": "ipython3",
   "version": "3.11.9"
  }
 },
 "nbformat": 4,
 "nbformat_minor": 5
}
