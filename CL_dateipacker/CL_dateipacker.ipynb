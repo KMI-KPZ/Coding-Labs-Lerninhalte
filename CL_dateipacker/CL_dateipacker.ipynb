{
 "cells": [
  {
   "cell_type": "markdown",
   "id": "a20a9e72-fc85-4ecc-af4f-231cbb3c5b20",
   "metadata": {
    "editable": true,
    "slideshow": {
     "slide_type": ""
    },
    "tags": []
   },
   "source": [
    "## 📦 Coding-Labs Dateipacker\n",
    "\n",
    "Mit diesem Notebook können Sie Notebooks, Dateien und Ordner in ein Installer-Notebook zusammenfassen, welches dann z. B. per E-Mail verteilt werden kann. Die Schüler*innen laden das Notebook in ihren Account hoch und führen den darin befindlichen Code einmal aus. Damit wird die originale Datei- und Ordnerstruktur wiederhergestellt.\n",
    "\n",
    "**Wichtig:** Vor dem Ausführen der folgenden Zelle muss die Zelle unter ***Diese Zelle hier zuerst ausführen*** ausgeführt werden, um notwendige Funktionen zu laden. \n",
    "\n",
    "Geben Sie nun in der folgenden Zelle Quellordner und Zielnotebook an und führen die Zelle dann aus. Dadurch wird das Zielnotebook erstellt, welches Sie dann verteilen können.\n",
    "\n",
    "**Hinweis:** Es kann einen Moment dauern, bis das erstellte Notebook links im Dateimanager erscheint."
   ]
  },
  {
   "cell_type": "code",
   "execution_count": null,
   "id": "5c3e9d76-d3d5-49a3-baad-5677a4fda1e8",
   "metadata": {
    "editable": true,
    "slideshow": {
     "slide_type": ""
    },
    "tags": []
   },
   "outputs": [],
   "source": [
    "dateien_ordner = \" ...  \"  ## Bitte geben Sie hier den Ordner an, in dem sich die zu packenden Dateien befinden.\n",
    "installer_name = \" ...  \"  ## Hier muss der Name des Installations-Notebooks hin, welches Sie dann verteilen können.\n",
    "   \n",
    "import subprocess\n",
    "subprocess.Popen( 'tar -zcvf data.tar \"' + dateien_ordner + '\"', shell=True, stdout=subprocess.PIPE, stderr=subprocess.PIPE )\n",
    "! cat data.tar | base64 >data.txt\n",
    "create_installer()\n",
    "! rm data.tar; rm data.txt\n",
    "print(\"Fertig.\")"
   ]
  },
  {
   "cell_type": "markdown",
   "id": "7cd6237c-e72b-4d31-8b6d-9c86b790a4ad",
   "metadata": {
    "editable": false,
    "slideshow": {
     "slide_type": ""
    },
    "tags": []
   },
   "source": [
    "So sieht die Titelzeile vom Installations-Notebook aus, wie es die Schüler*innen sehen.\n",
    "\n",
    "---"
   ]
  },
  {
   "cell_type": "markdown",
   "id": "af454498-43c8-4637-b4c8-99ca11b7b912",
   "metadata": {
    "editable": true,
    "slideshow": {
     "slide_type": ""
    },
    "tags": []
   },
   "source": [
    "## Datei-Installer\n",
    "Führen Sie die Python-Zelle aus, um den Ordner mit dem Kurs im Wurzelverzeichnis zu erstellen. \n",
    "\n",
    "***Hinweis:*** Es kann einen Moment dauern, bis der neu erstellte Ordner links im Dateimanager erscheint. Danach bitte einmal abmelden und wieder anmelden. Das Installationsnotebook kann dann gelöscht werden.\n",
    "\n",
    "---"
   ]
  },
  {
   "cell_type": "markdown",
   "id": "d50380d1-d96d-43e7-9cab-9072f38186e9",
   "metadata": {
    "editable": false,
    "slideshow": {
     "slide_type": ""
    },
    "tags": []
   },
   "source": [
    "## Diese Zelle hier zuerst ausführen:"
   ]
  },
  {
   "cell_type": "code",
   "execution_count": null,
   "id": "020638fd-e870-407f-8363-78743c72e317",
   "metadata": {
    "editable": false,
    "slideshow": {
     "slide_type": ""
    },
    "tags": []
   },
   "outputs": [],
   "source": [
    "import json\n",
    "this_notebook = \"CL_dateipacker.ipynb\"\n",
    "\n",
    "def pattern_in_cell_source(json_cell, pattern):\n",
    "    if len(json_cell[\"source\"]) > 0:\n",
    "        for line_index in range(len(json_cell[\"source\"])):\n",
    "            if json_cell[\"source\"][line_index].startswith(pattern):\n",
    "                return True                    \n",
    "    return False\n",
    "        \n",
    "def extract_config_element(json_cell, pattern):\n",
    "    for element in json_cell:\n",
    "        if element.startswith(pattern):\n",
    "            return element.split('=')[1].strip('\\n \"')\n",
    "\n",
    "def create_jupyter_out(json_block):\n",
    "    json_block_out = json_block.copy()\n",
    "    json_block_out[\"cells\"] = []\n",
    "    for cell_index in range(len(json_block[\"cells\"])):\n",
    "        if pattern_in_cell_source(json_block[\"cells\"][cell_index], \"## Datei-Installer\") or \\\n",
    "           pattern_in_cell_source(json_block[\"cells\"][cell_index], \"## Datei-Installer-Code\"):\n",
    "            json_block_out[\"cells\"].append(json_block[\"cells\"][cell_index])\n",
    "    return json_block_out\n",
    "         \n",
    "def add_base64_segment(json_block):\n",
    "    base64file = open(\"data.txt\")\n",
    "    base64_block=\"\"\n",
    "    for line in base64file:\n",
    "        base64_block = base64_block + line\n",
    "    json_block_mod = json_block.copy()\n",
    "    for cell_index in range(len(json_block_mod[\"cells\"])):\n",
    "        if pattern_in_cell_source(json_block_mod[\"cells\"][cell_index], \"## Datei-Installer-Code\"):\n",
    "            json_block_mod[\"cells\"][cell_index][\"metadata\"][\"CL_base64_block\"] = base64_block\n",
    "    return json_block_mod\n",
    "\n",
    "def add_code(json_block):\n",
    "    add_code = \"this_notebook = \" + '\"' + installer_name+'\"\\n'\n",
    "    json_block_final = json_block.copy()\n",
    "    for cell_index in range(len(json_block_final[\"cells\"])):\n",
    "        if pattern_in_cell_source(json_block_final[\"cells\"][cell_index], \"## Datei-Installer-Code\"):\n",
    "            json_block_final[\"cells\"][cell_index][\"source\"] = [add_code] + json_block_final[\"cells\"][cell_index][\"source\"]\n",
    "    return json_block_final      \n",
    "\n",
    "def create_installer():\n",
    "    json_block = json.load(open(this_notebook))\n",
    "    json_block_out = create_jupyter_out(json_block)\n",
    "    json_block_mod = add_base64_segment(json_block_out)\n",
    "    json_block_final = add_code(json_block_mod)\n",
    "    oup = open(installer_name, \"w\", encoding=\"UTF-8\")\n",
    "    json_out = json.dumps(json_block_out, indent=1, ensure_ascii=False)\n",
    "    oup.write(json_out)\n",
    "    oup.close()\n",
    "\n"
   ]
  },
  {
   "cell_type": "markdown",
   "id": "574b5593-9d8d-45a4-bf8a-54514d88f63f",
   "metadata": {},
   "source": [
    "## Diese Zelle nicht ausführen!"
   ]
  },
  {
   "cell_type": "code",
   "execution_count": null,
   "id": "0e138eeb-ecc8-4eeb-86b3-a74aa540e942",
   "metadata": {
    "editable": false,
    "slideshow": {
     "slide_type": ""
    },
    "tags": []
   },
   "outputs": [],
   "source": [
    "## Datei-Installer-Code\n",
    "\n",
    "import json\n",
    "\n",
    "def pattern_in_cell_source(json_cell, pattern):\n",
    "    if len(json_cell[\"source\"]) > 0:\n",
    "        for line_index in range(len(json_cell[\"source\"])):\n",
    "            if json_cell[\"source\"][line_index].startswith(pattern):\n",
    "                return True                    \n",
    "    return False\n",
    "\n",
    "json_block = json.load(open(this_notebook))\n",
    "for cell_index in range(len(json_block[\"cells\"])):\n",
    "    if pattern_in_cell_source(json_block[\"cells\"][cell_index], \"## Datei-Installer-Code\"):\n",
    "        base64_block = json_block[\"cells\"][cell_index][\"metadata\"][\"CL_base64_block\"]\n",
    "base64file = open(\"data_out.txt\",\"w\")\n",
    "base64file.write(base64_block)\n",
    "base64file.close()\n",
    "! cat data_out.txt | base64 -d > data.tar\n",
    "! tar -k -zxvf data.tar\n",
    "! rm data_out.txt\n",
    "! rm data.tar"
   ]
  },
  {
   "cell_type": "markdown",
   "id": "1c0eab98-a434-461e-a049-67ae9756cb77",
   "metadata": {
    "editable": true,
    "slideshow": {
     "slide_type": ""
    },
    "tags": []
   },
   "source": [
    "<font color=\"#a0a0a0\" >Autor: Joachim Kutzera | Version: 09. Juli, 2024 - © 2024 | Lizensiert unter CC BY-NC 4.0\n",
    "   | codinglabs-projekt.de | infai.org\n",
    "</font>"
   ]
  }
 ],
 "metadata": {
  "kernelspec": {
   "display_name": "Python 3 (ipykernel)",
   "language": "python",
   "name": "python3"
  },
  "language_info": {
   "codemirror_mode": {
    "name": "ipython",
    "version": 3
   },
   "file_extension": ".py",
   "mimetype": "text/x-python",
   "name": "python",
   "nbconvert_exporter": "python",
   "pygments_lexer": "ipython3",
   "version": "3.11.9"
  }
 },
 "nbformat": 4,
 "nbformat_minor": 5
}
