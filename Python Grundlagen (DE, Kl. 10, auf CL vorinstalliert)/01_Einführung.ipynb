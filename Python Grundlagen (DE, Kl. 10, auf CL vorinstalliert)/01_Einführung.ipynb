{
 "cells": [
  {
   "attachments": {
    "code_box.png": {
     "image/png": "[encoded data removed]"
    }
   },
   "cell_type": "markdown",
   "id": "89fe9032",
   "metadata": {
    "deletable": false,
    "editable": false,
    "slideshow": {
     "slide_type": ""
    },
    "tags": []
   },
   "source": [
    "# Python Einstiegskurs: Die Grundlagen der Python-Programmierung\n",
    "\n",
    "## 1: Ein erster Befehl in Python\n",
    "\n",
    "Was Du hier siehst, ist eine Mischung aus Übungsaufgabe und Programmierumgebung. Das bedeutet, dass Du die Einzelaufgaben und Beispiele in den Kapiteln direkt jeweils unter dem Text ausprobieren kannst. Die Programmiersprache, in der wir hier programmieren ist Python, eine weit verbreitete und einfach zu erlernende Programmiersprache.\n",
    "<div class=\"alert alert-block alert-success\">\n",
    "<p style=\"color:black;font-size:1.5em;font-weight:bold\">💡  Gut zu wissen:  Ausführbare Felder und aufklappbare Hinweise</p>\n",
    "<font color=\"black\" size=\"3\">\n",
    "<ul>\n",
    "<li>Die Felder, die so aussehen, können zur Ausführung von Pythoncode verwendet werden: <br>\n",
    " \n",
    "<img src=\"attachment:code_box.png\" align=\"left\" alt=\"Jupyter Code Box\"/>\n",
    "   \n",
    "<br><br>\n",
    "</li><br>\n",
    "        <li>Ein Python-Feld kannst du ausführen, indem du in das Feld klickst und <b style=\"background-color:#c0c0c0;font-weight:normal\">&nbsp;&nbsp;Strg&nbsp;&nbsp;</b> + <b style=\"background-color:#c0c0c0;font-weight:normal\">&nbsp;&nbsp;Eingabetaste&nbsp;&nbsp;</b> drückst.\n",
    "</li><br>\n",
    "<li>Hinter den Schaltflächen <p style=\"border: 1px solid; border-radius: 3px; padding: 5px; display: inline-block; cursor: pointer; margin-top: 10px; background-color: #EEE9E9;\"> 🔎 </p> verstecken sich aufklappbare Lösungshinweise und teilweise auch der korrekte Code als Lösung. Verwende die Hilfen nur, wenn Du nicht weiter weißt.</li>\n",
    "        <br>\n",
    "<li>Über einigen Codefeldern gibt es die Schaltfläche <p style=\"border: 1px solid; border-radius: 3px; padding: 5px; display: inline-block; cursor: pointer; margin-top: 10px; background-color: #EEE9E9;\"> 🔃 Code zum Wiederherstellen </p>. Klickst Du darauf erscheint der Code, der auch im Codefeld darunter steht. Falls Du diesen Code im Codefeld aus Versehen löschst oder zu stark veränderst, kannst du ihn so mit copy+paste wiederherstellen. </li></font></div>\n",
    "\n",
    "Im Feld unten steht unser erstes, kleines Python-Programm. Der Befehl ***print()*** bedeutet hier \"Ausgabe\", er schreibt also das, was ihm übergeben wurde. \n",
    "\n",
    "**🚀 &nbsp;Aufgabe 1**: Klicke in das Feld unten führe den Code aus. Die Ausgabe erscheint unter dem Feld."
   ]
  },
  {
   "cell_type": "code",
   "execution_count": 1,
   "id": "bbccf604",
   "metadata": {
    "CL_editable": false,
    "deletable": false,
    "editable": false
   },
   "outputs": [
    {
     "name": "stdout",
     "output_type": "stream",
     "text": [
      "Hallo, Welt\n"
     ]
    }
   ],
   "source": [
    "print(\"Hallo, Welt\")"
   ]
  },
  {
   "cell_type": "markdown",
   "id": "c58fc330",
   "metadata": {
    "deletable": false,
    "editable": false,
    "slideshow": {
     "slide_type": ""
    },
    "tags": []
   },
   "source": [
    "\n",
    "Dem ***print()***-Befehl oben wurde hier der Text \"Hallo, Welt\" als Parameter übergeben. Die Anführungszeichen sind hier wichtig, da sie dem Befehl mitteilen, dass der Parameter ein Stück Text ist.\n",
    "\n",
    "<div class=\"alert alert-block alert-success\">\n",
    "<p style=\"color:black;font-size:1.5em;font-weight:bold\">💡  Gut zu wissen:  Python Grundlagen</p>\n",
    "<font color= \"black\" size=\"3\">\n",
    "<ul>\n",
    "<li>Python unterscheidet überall zwischen Groß- und Kleinschreibung. Zwei Befehle mit den Namen <b>print()</b> und <b>Print()</b> wären folglich für Python zwei unterschiedliche Befehle.</li>\n",
    "<br>\n",
    "<li>Zeilen in Python, die mit einer Raute (<b>#</b>) beginnen sind Kommentare, also Anmerkungen, die beim Verstehen des Codes hilfreich sind. Kommentare haben keinen Einfluss auf das Verhalten des Programms.</li><br>  \n",
    "        <li>Kommentare können auch hinter einem Befehl stehen. Dann markiert die Raute (<b>#</b>) den Kommentaranfang.\n",
    "        </li><br>\n",
    "<li>Im Normalfall müssen Befehle immer am Zeilenanfang stehen. Die Einrückung (Anzahl der Leerzeichen vor einem Befehl) wird aber später noch wichtig und unten im Kurs erklärt.</li>\n",
    "</ul>\n",
    "</font>\n",
    "</div>\n",
    "    \n",
    "**🚀 &nbsp;Aufgabe 2**: Führe das folgende Code-Feld aus. Warum erzeugt es eine Fehlermeldung?"
   ]
  },
  {
   "cell_type": "code",
   "execution_count": 2,
   "id": "7ba0ea64",
   "metadata": {
    "CL_editable": false,
    "deletable": false,
    "editable": false
   },
   "outputs": [
    {
     "ename": "IndentationError",
     "evalue": "unexpected indent (4205119555.py, line 3)",
     "output_type": "error",
     "traceback": [
      "\u001b[1;36m  Cell \u001b[1;32mIn[2], line 3\u001b[1;36m\u001b[0m\n\u001b[1;33m    print(\"Python Kurs\")\u001b[0m\n\u001b[1;37m    ^\u001b[0m\n\u001b[1;31mIndentationError\u001b[0m\u001b[1;31m:\u001b[0m unexpected indent\n"
     ]
    }
   ],
   "source": [
    "# Dieser Code erzeugt eine Fehlermeldung. Warum?\n",
    "print(\"Hallo, Welt\")\n",
    " print(\"Python Kurs\")"
   ]
  },
  {
   "cell_type": "markdown",
   "id": "96cd75c4",
   "metadata": {
    "deletable": false,
    "editable": false
   },
   "source": [
    "<details>\n",
    "<summary style=\"border: 1px solid; border-radius: 3px; padding: 5px; display: inline-block; cursor: pointer; margin-top: 10px; background-color: #EEE9E9;\">\n",
    "🔎 Lösung anzeigen\n",
    "</summary><br>\n",
    "    \n",
    "Der Code wird nicht ordnungsgemäß ausgeführt, da die zweite Zeile mit einem Leerzeichen beginnt.\n",
    "</details>\n",
    "<br>"
   ]
  },
  {
   "cell_type": "markdown",
   "id": "8d24fa1b",
   "metadata": {
    "deletable": false,
    "editable": false
   },
   "source": [
    "## 2: Variablen definieren, eingeben und ausgeben\n",
    "\n",
    "#### 2.1: Grundlagen\n",
    "\n",
    "Variablen speichern Informationen, z. B. Text oder Zahlen, und sie haben einen Namen und einen Wert. \n",
    "\n",
    "**🚀 &nbsp;Aufgabe 3**: Im folgenden Beispiel speichern wir die Information für den ***print()*** Befehl vorab in einer Variable. Führe den Code aus."
   ]
  },
  {
   "cell_type": "code",
   "execution_count": null,
   "id": "94283d88",
   "metadata": {
    "CL_editable": false,
    "deletable": false,
    "editable": false,
    "scrolled": true
   },
   "outputs": [],
   "source": [
    "a = \"Hallo, Welt\"\n",
    "print(a)"
   ]
  },
  {
   "cell_type": "markdown",
   "id": "00dfee46",
   "metadata": {
    "deletable": false,
    "editable": false
   },
   "source": [
    "Variablen sollten aussagekräftige Namen haben, da es sonst schwierig ist, den Überblick zu behalten. Beim Namen ***a*** ist später nicht mehr klar, wofür die Variable mal gedacht war. Bestimmte Sonderzeichen wie ***_*** und auch Zahlen können im Namen verwendet werden. Traditionell werden Variablen klein geschrieben und haben weder Umlaute noch Sonderzeichen wie „ß“. Hier ist ein Beispiel für eine aussagekräftige Variable:"
   ]
  },
  {
   "cell_type": "code",
   "execution_count": null,
   "id": "776c800a",
   "metadata": {
    "CL_editable": false,
    "deletable": false,
    "editable": false
   },
   "outputs": [],
   "source": [
    "nachricht_an_klasse_10 = \"Hallo, Welt.\"\n",
    "print(nachricht_an_klasse_10)"
   ]
  },
  {
   "cell_type": "markdown",
   "id": "31769ef3",
   "metadata": {
    "deletable": false,
    "editable": false
   },
   "source": [
    "Variablen, die Text enthalten, können mit dem Operator \"***+***\" aneinandergefügt (konkateniert) werden. Operatoren sind aus dem Mathematikunterricht bekannte Symbole wie ***+***, ***-*** oder ***/***."
   ]
  },
  {
   "cell_type": "code",
   "execution_count": null,
   "id": "6b7708a2",
   "metadata": {
    "CL_editable": false,
    "deletable": false,
    "editable": false
   },
   "outputs": [],
   "source": [
    "gruss = \"Hallo \" # Beachte das Leerzeichen nach dem Wort \"Hallo.\". Ohne es würde der Text ohne Lücke zusammengefügt.\n",
    "klassenstufe = \"Klasse 10\"\n",
    "nachricht = gruss + klassenstufe\n",
    "print(nachricht)"
   ]
  },
  {
   "cell_type": "markdown",
   "id": "5d84cb76",
   "metadata": {
    "deletable": false,
    "editable": false
   },
   "source": [
    "**🚀 &nbsp;Aufgabe 4**: Füge dem Codebeispiel unten eine weitere Variable hinzu, in dem der Name der Schule gespeichert wird. Benenne die Variable passend und schreibe eine Nachricht, die mit ***+*** zusammengefügt wird und dann mit dem **print()**-Befehl ausgegeben wird.\n",
    "<details>\n",
    "<summary style=\"border: 1px solid; border-radius: 3px; padding: 5px; display: inline-block; cursor: pointer; margin-top: 10px; background-color: #EEE9E9;\"> 🔃 Code zum Wiederherstellen </summary>\n",
    "\n",
    "    gruss = \"Hallo \"\n",
    "    klassenstufe = \"Klasse 10 \"\n",
    "    # hier eine Variable mit dem Schulnamen\n",
    "    nachricht = gruss + klassenstufe # ... hier fehlt die neue Variable\n",
    "    print(nachricht)\n",
    "</details>"
   ]
  },
  {
   "cell_type": "code",
   "execution_count": null,
   "id": "e6a9426b",
   "metadata": {
    "CL_editable": true,
    "deletable": false
   },
   "outputs": [],
   "source": [
    "gruss = \"Hallo \"\n",
    "klassenstufe = \"Klasse 10 \"\n",
    "# hier eine Variable mit dem Schulnamen\n",
    "nachricht = gruss + klassenstufe # ... hier fehlt die neue Variable\n",
    "print(nachricht)"
   ]
  },
  {
   "cell_type": "markdown",
   "id": "b645cd74",
   "metadata": {
    "deletable": false,
    "editable": false
   },
   "source": [
    "<details>\n",
    "    <summary style=\"border: 1px solid; border-radius: 3px; padding: 5px; display: inline-block; cursor: pointer; margin-top: 10px; background-color: #EEE9E9;\">\n",
    "🔎 mögliche Lösung anzeigen\n",
    "    </summary><br>\n",
    "\n",
    "    gruss = \"Hallo \"\n",
    "    klassenstufe = \"Klasse 10 \"\n",
    "    schule = \"Stadtgymnasium\"\n",
    "    nachricht = gruss + klassenstufe + \"vom \" + schule\n",
    "    print(nachricht)\n",
    "</details>\n",
    "\n",
    "\n",
    "#### 2.2: Eingabe von Variablen\n",
    "Du weißt jetzt, wie man das Programm dazu bringt, Wörter anzuzeigen. Aber was, wenn das Programm eine Eingabe von Dir haben möchte bevor es mit der Ausführung fortfährt? Dafür gibt es den Befehl ***input()***. Er liest eine Eingabe vom Nutzer und speichert sie als Text in einer Variable. Der ***input()*** Befehl erzeugt ein Eingabefeld unter dem Code-Feld. Dort kannst Du etwas eingeben, und dann mit der <b style=\"background-color:#c0c0c0;font-weight:normal\">&nbsp;&nbsp;Eingabetaste&nbsp;&nbsp;</b> bestätigen. Damit wird der eingegebene Text in der Variable gespeichert.\n",
    "\n",
    "**🚀 &nbsp;Aufgabe 5**: Dieses Programm veranschaulicht die Funktion. Führe es aus. Schreibe etwas in die Eingabebox neben dem Text \"Bitte hier die Klassenstufe eingeben.\" und drücke die <b style=\"background-color:#c0c0c0;font-weight:normal\">&nbsp;&nbsp;Eingabetaste&nbsp;&nbsp;</b>."
   ]
  },
  {
   "cell_type": "code",
   "execution_count": null,
   "id": "c82a5c00",
   "metadata": {
    "CL_editable": false,
    "deletable": false,
    "editable": false
   },
   "outputs": [],
   "source": [
    "gruss = \"Hallo \"\n",
    "klassenstufe = input(\"Bitte hier die Klassenstufe eingeben.\")\n",
    "nachricht = gruss + klassenstufe\n",
    "print(nachricht)"
   ]
  },
  {
   "cell_type": "markdown",
   "id": "fdf3cd2f",
   "metadata": {
    "deletable": false,
    "editable": false
   },
   "source": [
    "#### 2.3 Variablen für Zahlen\n",
    "\n",
    "Der zweite wichtige Datentyp für Variablen (neben Text) sind Zahlen. Die Zuweisung erfolgt bei Zahlen ohne die Anführungszeichen. \n",
    "\n",
    "**🚀 &nbsp;Aufgabe 6**: Dieses Programm veranschaulicht die Funktion. Führe es aus."
   ]
  },
  {
   "cell_type": "code",
   "execution_count": null,
   "id": "f742f614",
   "metadata": {
    "CL_editable": false,
    "deletable": false,
    "editable": false
   },
   "outputs": [],
   "source": [
    "summand_1 = 2\n",
    "summand_2 = 8\n",
    "print(summand_1 + summand_2)"
   ]
  },
  {
   "cell_type": "markdown",
   "id": "d879ed86",
   "metadata": {
    "deletable": false,
    "editable": false,
    "slideshow": {
     "slide_type": ""
    },
    "tags": []
   },
   "source": [
    "<div class=\"alert alert-block alert-success\">\n",
    "<p style=\"color:black;font-size:1.5em;font-weight:bold\">💡  Gut zu wissen:  Operatoren</p>\n",
    "<font color= \"black\" size=\"3\">\n",
    "<ul>\n",
    "<li>Je nach Datentyp der Variablen können Operatoren verschiedene Funktionen haben. Der Operator <b>+</b> hatte oben noch die Funktion \"verbinde zwei Texte\". Bei Zahlen führt das <b>+</b> die Addition aus.</li>\n",
    "<br>\n",
    "<li>Für Zahlen gibt zum Beispiel typischen Operatoren <b>+</b>,  <b>-</b>,  <b>*</b>,  und <b>/</b>.</li>\n",
    "</ul>\n",
    "</font>\n",
    "</div>\n",
    "\n",
    "**🚀 &nbsp;Aufgabe 7:** Schreibe den Code unten nun so um, dass das Ergebnis der Addition in einer eigenen Variable gespeichert wird, bevor es ausgegeben wird.\n",
    "<details>\n",
    "<summary style=\"border: 1px solid; border-radius: 3px; padding: 5px; display: inline-block; cursor: pointer; margin-top: 10px; background-color: #EEE9E9;\"> 🔃 Code zum Wiederherstellen</summary>\n",
    "    \n",
    "    summand_1 = 2\n",
    "    summand_2 = 8\n",
    "    # Ergebniszuweisung hier einfügen\n",
    "    print() # Ausgabe des Ergebnisses\n",
    "</details>"
   ]
  },
  {
   "cell_type": "code",
   "execution_count": null,
   "id": "86905888",
   "metadata": {
    "CL_editable": true,
    "deletable": false
   },
   "outputs": [],
   "source": [
    "summand_1 = 2\n",
    "summand_2 = 8\n",
    "# Ergebniszuweisung hier einfügen\n",
    "print() # Ausgabe des Ergebnisses"
   ]
  },
  {
   "cell_type": "markdown",
   "id": "7d7c9780",
   "metadata": {
    "deletable": false,
    "editable": false
   },
   "source": [
    "<details>\n",
    "<summary style=\"border: 1px solid; border-radius: 3px; padding: 5px; display: inline-block; cursor: pointer; margin-top: 10px; background-color: #EEE9E9;\"> 🔎 mögliche Lösung anzeigen</summary>\n",
    "    \n",
    "    summand_1 = 2\n",
    "    summand_2 = 8\n",
    "    ergebnis = summand_1 + summand_2\n",
    "    print(\"Ergebnis:\", ergebnis) # Ausgabe des Ergebnisses\n",
    "</details>\n",
    "\n",
    "\n",
    "### 2.4 Eingabe von Zahlen\n",
    "\n",
    "Jetzt wollen wir ein Rechenprogramm schreiben, bei dem man die Zahlen eingeben kann. \n",
    "\n",
    "**🚀 &nbsp;Aufgabe 8**: Probiere den Code hier aus. Funktioniert er?"
   ]
  },
  {
   "cell_type": "code",
   "execution_count": null,
   "id": "6197bd99",
   "metadata": {
    "CL_editable": false,
    "deletable": false,
    "editable": false
   },
   "outputs": [],
   "source": [
    "print(\"Bitte Zahl 1 eingeben.\")\n",
    "summand_1 = input()\n",
    "print(\"Bitte Zahl 2 eingeben.\")\n",
    "summand_2 = input()\n",
    "print (\"Ergebnis:\", summand_1 + summand_2)"
   ]
  },
  {
   "cell_type": "markdown",
   "id": "8418ce48",
   "metadata": {
    "deletable": false,
    "editable": false
   },
   "source": [
    "Wie Du wahrscheinlich festgestellt hast, interpretiert Python die Eingaben erst mal als Text und hängt sie mit dem ***+*** aneinander. Damit der Code funktioniert, musst Du die Variablen in Zahlen umwandeln. Dies funktioniert mit dem Befehl ***int()***. \"Int\" steht hier für den Begriff \"Integer\", welcher in der Welt der Programmierung für \"Ganzzahlen\" steht. \n",
    "\n",
    "**🚀 &nbsp;Aufgabe 9**: Das Beispiel unten zeigt Dir, wie der Befehl ***int()*** verwendet wird. Führe es aus."
   ]
  },
  {
   "cell_type": "code",
   "execution_count": null,
   "id": "3a33f3bd",
   "metadata": {
    "CL_editable": true,
    "deletable": false
   },
   "outputs": [],
   "source": [
    "print(int(\"3\"))"
   ]
  },
  {
   "cell_type": "markdown",
   "id": "6eacbc41",
   "metadata": {
    "deletable": false,
    "editable": false
   },
   "source": [
    "**🚀** Schreibe Jetzt das Programm mit der Zahleneingabe so um, dass es korrekt funktioniert:"
   ]
  },
  {
   "cell_type": "code",
   "execution_count": null,
   "id": "f35365da",
   "metadata": {
    "CL_editable": true,
    "deletable": false
   },
   "outputs": [],
   "source": [
    "# wo muss hier überall \"int()\" hin?\n",
    "print(\"Bitte Zahl 1 eingeben.\")\n",
    "summand_1 = input()\n",
    "print(\"Bitte Zahl 2 eingeben.\")\n",
    "summand_2 = input()\n",
    "print (\"Ergebnis:\", summand_1 + summand_2)"
   ]
  },
  {
   "cell_type": "markdown",
   "id": "c9643114",
   "metadata": {
    "deletable": false,
    "editable": false
   },
   "source": [
    "<details>\n",
    "<summary style=\"border: 1px solid; border-radius: 3px; padding: 5px; display: inline-block; cursor: pointer; margin-top: 10px; background-color: #EEE9E9;\"> 🔎 mögliche Lösung anzeigen</summary>\n",
    "    \n",
    "    print(\"Bitte Zahl 1 eingeben.\")\n",
    "    summand_1 = int(input())\n",
    "    print(\"Bitte Zahl 2 eingeben.\")\n",
    "    summand_2 = int(input())\n",
    "    print (\"Ergebnis:\",summand_1 + summand_2)\n",
    "</details>"
   ]
  },
  {
   "cell_type": "markdown",
   "id": "cbb78a6a",
   "metadata": {
    "deletable": false,
    "editable": false
   },
   "source": [
    "## 3: If-Anweisungen und Variablen für Wahrheitswerte\n",
    "\n",
    "#### 3.1 Entscheidungen: Falls Bedingung dann Reaktion\n",
    "\n",
    "Unser Rechenprogramm kann nun Zahlen einlesen und sie addieren. Um nun auch auszuwählen, welche Rechenoperation ausgeführt werden soll, benötigen wir eine ***if*** Anweisung. \"***If***\" bedeutet hier \"falls\"; also \"Falls eine Bedingung erfüllt ist, dann führe den Code aus\". ***if*** Anweisungen verarbeiten logische Ausdrücke, die entweder wahr (im Programmierjargon: \"True\") oder falsch (\"False\") sind. Ist der logische Ausdruck wahr, so wird der Code ausgeführt.\n",
    "\n",
    "**🚀 &nbsp;Aufgabe 10:** Dieses Programm stellt ein Beispiel für If-Anweisungen dar. Probiere es aus mit den Eingaben 10, 15 und 16."
   ]
  },
  {
   "cell_type": "code",
   "execution_count": null,
   "id": "3d83897d",
   "metadata": {
    "CL_editable": false,
    "deletable": false,
    "editable": false
   },
   "outputs": [],
   "source": [
    "alter_der_person = int(input())\n",
    "\n",
    "if alter_der_person < 15:\n",
    "    print(\"Du darfst noch keinen Mopedführerschein machen.\")\n",
    "\n",
    "if alter_der_person > 15:\n",
    "    print(\"Du darfst einen Mopedführerschein machen.\")\n",
    "    print(\"Du hast die 9. Klasse abgeschlossen.\")\n",
    "    \n",
    "if alter_der_person == 15:\n",
    "    print(\"Du darfst in einem Jahr einen Mopedführerschein machen.\")\n",
    "    print(\"Du darfst in 3 Jahren den PKW-Führerschein machen.\")"
   ]
  },
  {
   "cell_type": "markdown",
   "id": "cacff7fa",
   "metadata": {
    "deletable": false,
    "editable": false,
    "slideshow": {
     "slide_type": ""
    },
    "tags": []
   },
   "source": [
    "Vorhin hast Du gesehen, dass Befehle normalerweise nicht eingerückt sein dürfen. Der ***if*** Befehl ist einer der Sonderfälle, bei dem die nachfolgenden Befehle, die im Falle der erfüllten Bedingung ausgeführt werden, eingerückt sein müssen.\n",
    "\n",
    "<div class=\"alert alert-block alert-success\">\n",
    "<p style=\"color:black;font-size:1.5em;font-weight:bold\">💡  Gut zu wissen: If-Befehle und eingerückte Code-Blöcke</p>\n",
    "<font color= \"black\" size=\"3\">\n",
    "<ul>\n",
    "<li>nach dem Wort <b>if</b> kommt die Bedingung. Für \"Ist etwas gleich?\" werden zwei Gleichheitszeichen (<b>==</b>) verwendet. Andere typische Bedingungen sind \"größer als\" und \"kleiner als\":  <b>></b> und <b>&lt;</b>.</li><br>\n",
    "        <li>Weitere unterstützte Bedingungen sind <b>&gt;=</b> und <b>&lt;=</b> für \"kleiner oder gleich\" und \"größer oder gleich\".</li><br>\n",
    "        <li>Nach der Bedingung kommt ein Doppelpunkt.</li><br>\n",
    "<li>Die Befehle, die im Fall einer erfüllten Bedingung ausgeführt werden, werden eingerückt, z.B. mit vier Leerzeichen. Alle Befehle mit der gleichen Einrückung gehören zu einem Block und werden nur bei erfüllter Bedingung ausgeführt.</li> \n",
    "</ul></font></div>\n",
    "                \n",
    "Ergebnisse aus Bedingungen sind entweder ***True*** oder ***False*** und können in Variablen gespeichert werden. \n",
    "\n",
    "**🚀 &nbsp;Aufgabe 11:** Im folgenden Beispiel wird erst das Alter einer Person erfragt, und dann geprüft, ob die Person älter als 15 Jahre ist. Das Ergebnis dieser Prüfung wird in der Variable ***darf_moped_schein_machen*** gespeichert. Führe das Beispiel aus."
   ]
  },
  {
   "cell_type": "code",
   "execution_count": null,
   "id": "4a70a6d7",
   "metadata": {
    "CL_editable": false,
    "deletable": false,
    "editable": false
   },
   "outputs": [],
   "source": [
    "alter_der_person = int(input())\n",
    "\n",
    "darf_moped_schein_machen = alter_der_person > 15\n",
    "print(darf_moped_schein_machen)"
   ]
  },
  {
   "cell_type": "markdown",
   "id": "7e9b184a",
   "metadata": {
    "deletable": false,
    "editable": false,
    "slideshow": {
     "slide_type": ""
    },
    "tags": []
   },
   "source": [
    "<div class=\"alert alert-block alert-success\">\n",
    "<p style=\"color:black;font-size:1.5em;font-weight:bold\">💡  Gut zu wissen: True und False kann man auch im Programmtext verwenden</p>\n",
    "<font color= \"black\" size=\"3\">    \n",
    "<ul>\n",
    "<li><b>True</b> und <b>False</b> sind Schlüsselworte, die groß geschrieben werden müssen. </li><br>\n",
    "<li>Beim Verwenden von <b>True</b> und <b>False</b> im Programmtext lässt man die Anführungszeichen weg.</li><br>\n",
    "        <li>Die Variablen können dann z. B. in <b>if</b> - Abfragen verwendet werden. </li>\n",
    "</ul></font></div>\n",
    "\n",
    "**🚀 &nbsp;Aufgabe 12:** Hier ist ein Beispiel. Führe es aus."
   ]
  },
  {
   "cell_type": "code",
   "execution_count": null,
   "id": "b8733fd6",
   "metadata": {
    "deletable": false,
    "editable": false
   },
   "outputs": [],
   "source": [
    "darf_moped_schein_machen = True\n",
    "if darf_moped_schein_machen:\n",
    "    print(\"Du darfst einen Mopedführerschein machen.\")"
   ]
  },
  {
   "cell_type": "markdown",
   "id": "0053cb4c",
   "metadata": {
    "deletable": false,
    "editable": false
   },
   "source": [
    "#### 3.2 If - elif - else: Falls Bedingung dann .. , ansonsten falls Bedingung dann .. , andernfalls..\n",
    "\n",
    "***If*** Bedingungen können ***elif*** Blöcke und einen ***else*** - Block haben, müssen aber nicht. Der Befehl ***elif*** bedeutet hier \"else if\", und Code im ***elif*** Block wird nach einer neuen Bedingung ausgeführt, falls die ***if*** Bedingung nicht erfüllt wurde. Der Code im ***else:*** Block wird ausgeführt, falls keine der Bedingungen erfüllt ist.\n",
    "\n",
    "**🚀 &nbsp;Aufgabe 13:** Führe das folgende Beispiel mit den Eingaben 10, 15 und 20 aus."
   ]
  },
  {
   "cell_type": "code",
   "execution_count": null,
   "id": "136e06de",
   "metadata": {
    "CL_editable": false,
    "deletable": false,
    "editable": false
   },
   "outputs": [],
   "source": [
    "alter_der_person = int(input())\n",
    "if alter_der_person > 15:\n",
    "    print(\"Du darfst einen Mopedführerschein machen.\")\n",
    "elif alter_der_person == 15:\n",
    "    print(\"Du darfst in einem Jahr einen Mopedführerschein machen.\")\n",
    "else:\n",
    "    print(\"Du darfst noch keinen Mopedführerschein machen.\")"
   ]
  },
  {
   "cell_type": "markdown",
   "id": "eaba2981",
   "metadata": {
    "deletable": false,
    "editable": false
   },
   "source": [
    "### Zusatzübung: Ein Rechenprogramm mit Funktionsauswahl\n",
    "\n",
    "Falls Du noch Zeit hast, kannst Du nun alle Funktionen, die Du kennengelernt hast, zu einem einfachen Rechenprogramm für die Grundrechenarten kombinieren. Wie bei einem richtigen Taschenrechner können wir den ersten Operant, dann das Operationszeichen und dann den zweiten Operant eingeben. \n",
    "\n",
    "\n",
    "**🚀 &nbsp;Aufgabe 14:** Schreibe Deinen Code unter die Kommentare im Feld.\n",
    "<details>\n",
    "<summary style=\"border: 1px solid; border-radius: 3px; padding: 5px; display: inline-block; cursor: pointer; margin-top: 10px; background-color: #EEE9E9;\"> 🔃 Code zum Wiederherstellen</summary>\n",
    "    \n",
    "    # zahl_1 über input() einlesen\n",
    "    # operator (+, -, *, /) über input() einlesen\n",
    "    # zahl_2 über input() einlesen\n",
    "    # falls operator = \"+\"\n",
    "    #    ausgabe(zahl_1 + zahl_2)\n",
    "    # ansonsten, falls operator = \"-\"\n",
    "    #    ausgabe(zahl_1 - zahl_2)\n",
    "    # ansonsten, falls .. (blöcke für * und /)\n",
    "    #\n",
    "    # anderfalls: \n",
    "    #    ausgabe(\"Du kast keinen gültigen Operator angegeben.\")\n",
    "\n",
    "    # dein code hier\n",
    "</details>"
   ]
  },
  {
   "cell_type": "code",
   "execution_count": null,
   "id": "4b9a2dc4",
   "metadata": {
    "CL_editable": true,
    "deletable": false
   },
   "outputs": [],
   "source": [
    "# zahl_1 über input() einlesen\n",
    "# operator (+, -, *, /) über input() einlesen\n",
    "# zahl_2 über input() einlesen\n",
    "# falls operator = \"+\"\n",
    "#    ausgabe(zahl_1 + zahl_2)\n",
    "# ansonsten, falls operator = \"-\"\n",
    "#    ausgabe(zahl_1 - zahl_2)\n",
    "# ansonsten, falls .. (blöcke für * und /)\n",
    "#\n",
    "# anderfalls: \n",
    "#    ausgabe(\"Du kast keinen gültigen Operator angegeben.\")\n",
    "\n",
    "# dein code hier"
   ]
  },
  {
   "cell_type": "markdown",
   "id": "ad1bebc1",
   "metadata": {
    "deletable": false,
    "editable": false,
    "slideshow": {
     "slide_type": ""
    },
    "tags": []
   },
   "source": [
    "Falls es mit dem Code nicht gleich klappt, gibts hier zwei Lösungshinweise:\n",
    "\n",
    "Lösung für die Zahleneingabe:\n",
    "<details>\n",
    "<summary style=\"border: 1px solid; border-radius: 3px; padding: 5px; display: inline-block; cursor: pointer; margin-top: 10px; background-color: #EEE9E9;\"> 🔎 Hier anzeigen</summary>\n",
    "    \n",
    "    print(\"Bitte Zahl 1 eingeben.\")\n",
    "    zahl_1 = int(input())\n",
    "    print(\"Welcher Operator? (+-*/)\")\n",
    "    operator = input()\n",
    "    print(\"Bitte Zahl 2 eingeben.\")\n",
    "    zahl_2 = int(input())\n",
    "</details>\n",
    "\n",
    "Lösung für die if-Abfragen:\n",
    "<details>\n",
    "<summary style=\"border: 1px solid; border-radius: 3px; padding: 5px; display: inline-block; cursor: pointer; margin-top: 10px; background-color: #EEE9E9;\"> 🔎 Hier anzeigen</summary>\n",
    "    \n",
    "    if operator == \"+\":\n",
    "        print(\"Ergebnis:\",zahl_1 + zahl_2)\n",
    "    elif operator == \"-\":    \n",
    "        print(\"Ergebnis:\",zahl_1 - zahl_2)\n",
    "    elif operator == \"*\":    \n",
    "        print(\"Ergebnis:\",zahl_1 * zahl_2)\n",
    "    elif operator == \"/\":    \n",
    "        print(\"Ergebnis:\",zahl_1 / zahl_2)\n",
    "    else:\n",
    "        print(\"Operator ungültig.\")\n",
    "    \n",
    "    \n",
    "</details>\n",
    "\n",
    "**🚀** &nbsp;  Und falls Du noch mehr eigenen Code schreiben und ausprobieren möchtest, gibts hier noch ein Codefeld. Viel Spaß beim Ausprobieren!"
   ]
  },
  {
   "cell_type": "markdown",
   "id": "1dfef5df-e742-4c30-9432-5f6a780ad44b",
   "metadata": {
    "CL_editable": true,
    "deletable": false,
    "editable": false,
    "slideshow": {
     "slide_type": ""
    },
    "tags": []
   },
   "source": [
    "---\n",
    "<font color=\"#a0a0a0\" >Autor: Joachim Kutzera | Version: 15. Mai, 2024 - © 2024 | Lizensiert unter CC BY-NC 4.0\n",
    "   | codinglabs-projekt.de | infai.org\n",
    "</font>\n",
    "\n"
   ]
  }
 ],
 "metadata": {
  "kernelspec": {
   "display_name": "Python 3 (ipykernel)",
   "language": "python",
   "name": "python3"
  },
  "language_info": {
   "codemirror_mode": {
    "name": "ipython",
    "version": 3
   },
   "file_extension": ".py",
   "mimetype": "text/x-python",
   "name": "python",
   "nbconvert_exporter": "python",
   "pygments_lexer": "ipython3",
   "version": "3.11.8"
  }
 },
 "nbformat": 4,
 "nbformat_minor": 5
}
